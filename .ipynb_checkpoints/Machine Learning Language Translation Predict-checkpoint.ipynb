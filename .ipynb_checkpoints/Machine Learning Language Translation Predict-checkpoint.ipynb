{
 "cells": [
  {
   "cell_type": "code",
   "execution_count": 1,
   "id": "69bb3600",
   "metadata": {},
   "outputs": [],
   "source": [
    "#IMPORTING NEEDED LIBRARIES\n",
    "\n",
    "from __future__ import print_function\n",
    "\n",
    "from keras.models import Model, load_model\n",
    "from keras.layers import Input, LSTM, Dense\n",
    "import numpy as np"
   ]
  },
  {
   "cell_type": "code",
   "execution_count": 2,
   "id": "ccce3169",
   "metadata": {},
   "outputs": [],
   "source": [
    "#iNITIALIZING ALL THE VALUES AS WE DID IN THE TRAIN FILE\n",
    "batch_size = 64  # Batch size\n",
    "epochs = 100  # Number of epochs to train for\n",
    "latent_dim = 256  # Latent dimensionality \n",
    "num_samples = 10000  # Number of samples to train on"
   ]
  },
  {
   "cell_type": "code",
   "execution_count": 4,
   "id": "d561c246",
   "metadata": {},
   "outputs": [],
   "source": [
    "# Vectorizing the data\n",
    "input_texts = []\n",
    "target_texts = []\n",
    "input_characters = set()\n",
    "target_characters = set()\n",
    "data_path = 'fra.txt'\n",
    "with open(data_path, 'r', encoding='utf-8') as f:\n",
    "    lines = f.read().split('\\n')\n",
    "for line in lines[: min(num_samples, len(lines) - 1)]:\n",
    "    input_text, target_text, _ = line.split('\\t')\n",
    "    #we use \"tab\" as the \"start sequence\" character\n",
    "    #for the targets, and \"\\n\" as \"end sequence\" character\n",
    "    target_text = '\\t' + target_text + '\\n'\n",
    "    input_texts.append(input_text)\n",
    "    target_texts.append(target_text)\n",
    "    for char in input_text:\n",
    "        if char not in input_characters:\n",
    "            input_characters.add(char)\n",
    "    for char in target_text:\n",
    "        if char not in target_characters:\n",
    "            target_characters.add(char)"
   ]
  },
  {
   "cell_type": "code",
   "execution_count": 5,
   "id": "d5b5ec43",
   "metadata": {},
   "outputs": [],
   "source": [
    "input_characters = sorted(list(input_characters))\n",
    "target_characters = sorted(list(target_characters))\n",
    "num_encoder_tokens = len(input_characters)\n",
    "num_decoder_tokens = len(target_characters)\n",
    "max_encoder_seq_length = max([len(txt) for txt in input_texts])\n",
    "max_decoder_seq_length = max([len(txt) for txt in target_texts])"
   ]
  },
  {
   "cell_type": "code",
   "execution_count": 7,
   "id": "3cf83eb3",
   "metadata": {},
   "outputs": [
    {
     "name": "stdout",
     "output_type": "stream",
     "text": [
      "Number of samples:  10000\n",
      "Number of unique input tokens:  71\n",
      "Number of unique output tokens:  93\n",
      "Max sequence length for inputs:  15\n",
      "Max sequence length for outputs:  59\n"
     ]
    }
   ],
   "source": [
    "print('Number of samples: ', len(input_texts))\n",
    "print('Number of unique input tokens: ', num_encoder_tokens)\n",
    "print('Number of unique output tokens: ', num_decoder_tokens)\n",
    "print('Max sequence length for inputs: ', max_encoder_seq_length)\n",
    "print('Max sequence length for outputs: ', max_decoder_seq_length)"
   ]
  },
  {
   "cell_type": "code",
   "execution_count": 8,
   "id": "5fcc20f8",
   "metadata": {},
   "outputs": [],
   "source": [
    "input_token_index = dict(\n",
    "    [(char, i) for i, char in enumerate(input_characters)])\n",
    "target_token_index = dict(\n",
    "    [(char, i) for i, char in enumerate(target_characters)])"
   ]
  },
  {
   "cell_type": "code",
   "execution_count": 9,
   "id": "2a97c76b",
   "metadata": {},
   "outputs": [],
   "source": [
    "encoder_input_data = np.zeros(\n",
    "    (len(input_texts), max_encoder_seq_length, num_encoder_tokens),\n",
    "    dtype='float32')\n",
    "for i, input_text in enumerate(input_texts):\n",
    "    for t, char in enumerate(input_text):\n",
    "        encoder_input_data[i, t, input_token_index[char]] = 1"
   ]
  },
  {
   "cell_type": "code",
   "execution_count": 10,
   "id": "a9d82489",
   "metadata": {},
   "outputs": [
    {
     "name": "stderr",
     "output_type": "stream",
     "text": [
      "2022-05-05 17:42:58.175397: I tensorflow/core/platform/cpu_feature_guard.cc:151] This TensorFlow binary is optimized with oneAPI Deep Neural Network Library (oneDNN) to use the following CPU instructions in performance-critical operations:  AVX2 FMA\n",
      "To enable them in other operations, rebuild TensorFlow with the appropriate compiler flags.\n"
     ]
    }
   ],
   "source": [
    "##Restoring the trained model and constructing the encoder and decoder\n",
    "model = load_model('seq2seq.h5')"
   ]
  },
  {
   "cell_type": "code",
   "execution_count": 11,
   "id": "c18c54db",
   "metadata": {},
   "outputs": [],
   "source": [
    "##Reconstructing the encoder by specifying the input shape and output states\n",
    "\n",
    "encoder_inputs = model.input[0]   # input_1\n",
    "encoder_outputs, state_h_enc, state_c_enc = model.layers[2].output   # lstm_1\n",
    "encoder_states = [state_h_enc, state_c_enc]\n",
    "encoder_model = Model(encoder_inputs, encoder_states)"
   ]
  },
  {
   "cell_type": "code",
   "execution_count": 13,
   "id": "a417c523",
   "metadata": {},
   "outputs": [],
   "source": [
    "#building the decoder\n",
    "\n",
    "decoder_inputs = model.input[1]   # input_2\n",
    "decoder_state_input_h = Input(shape=(latent_dim,))\n",
    "decoder_state_input_c = Input(shape=(latent_dim,))\n",
    "decoder_states_inputs = [decoder_state_input_h, decoder_state_input_c]\n",
    "decoder_lstm = model.layers[3]\n",
    "decoder_outputs, state_h_dec, state_c_dec = decoder_lstm(\n",
    "    decoder_inputs, initial_state=decoder_states_inputs)\n",
    "decoder_states = [state_h_dec, state_c_dec]\n",
    "decoder_dense = model.layers[4]\n",
    "decoder_outputs = decoder_dense(decoder_outputs)\n",
    "decoder_model = Model(\n",
    "    [decoder_inputs] + decoder_states_inputs,\n",
    "    [decoder_outputs] + decoder_states)"
   ]
  },
  {
   "cell_type": "code",
   "execution_count": 14,
   "id": "4cb8e0d3",
   "metadata": {},
   "outputs": [],
   "source": [
    "# Reverse-lookup token index to decode sequences back to something readable. It decodes back the sequences.\n",
    "reverse_input_char_index = dict(\n",
    "    (i, char) for char, i in input_token_index.items())\n",
    "reverse_target_char_index = dict(\n",
    "    (i, char) for char, i in target_token_index.items())"
   ]
  },
  {
   "cell_type": "code",
   "execution_count": 16,
   "id": "98ea2422",
   "metadata": {},
   "outputs": [],
   "source": [
    "#writing the predict function finally\n",
    "\n",
    "def decode_sequence(input_seq):\n",
    "    # Encode the input as state vectors.\n",
    "    states_value = encoder_model.predict(input_seq)\n",
    "# Generate empty target sequence of length 1.\n",
    "    target_seq = np.zeros((1, 1, num_decoder_tokens))\n",
    "    # Populate the first character of target sequence with the start character.\n",
    "    target_seq[0, 0, target_token_index['\\t']] = 1.\n",
    "# Sampling loop for a batch of sequences\n",
    "    # (to simplify, here we assume a batch of size 1).\n",
    "    stop_condition = False\n",
    "    decoded_sentence = ''\n",
    "    while not stop_condition:\n",
    "        output_tokens, h, c = decoder_model.predict(\n",
    "            [target_seq] + states_value)\n",
    "# Sample a token\n",
    "        sampled_token_index = np.argmax(output_tokens[0, -1, :])\n",
    "        sampled_char = reverse_target_char_index[sampled_token_index]\n",
    "        decoded_sentence += sampled_char\n",
    "# Exit condition: either hit max length\n",
    "        # or find stop character.\n",
    "        if (sampled_char == '\\n' or\n",
    "           len(decoded_sentence) > max_decoder_seq_length):\n",
    "            stop_condition = True\n",
    "# Update the target sequence (of length 1).\n",
    "        target_seq = np.zeros((1, 1, num_decoder_tokens))\n",
    "        target_seq[0, 0, sampled_token_index] = 1.\n",
    "# Update states\n",
    "        states_value = [h, c]\n",
    "    return decoded_sentence"
   ]
  },
  {
   "cell_type": "markdown",
   "id": "2e08193a",
   "metadata": {},
   "source": [
    "### Let us translate!!!"
   ]
  },
  {
   "cell_type": "code",
   "execution_count": 34,
   "id": "a4e8bd60",
   "metadata": {},
   "outputs": [
    {
     "name": "stdout",
     "output_type": "stream",
     "text": [
      "Input:  How are you?\n",
      "Translated:  Comment vas-tu ?\n",
      "\n"
     ]
    }
   ],
   "source": [
    "input_sentence = \"How are you?\"\n",
    "test_sentence_tokenized = np.zeros(\n",
    "    (1, max_encoder_seq_length, num_encoder_tokens), dtype='float32')\n",
    "for t, char in enumerate(input_sentence):\n",
    "    test_sentence_tokenized[0, t, input_token_index[char]] = 1.\n",
    "print(\"Input: \", input_sentence)\n",
    "print(\"Translated: \",decode_sequence(test_sentence_tokenized))"
   ]
  },
  {
   "cell_type": "code",
   "execution_count": 22,
   "id": "e35f4603",
   "metadata": {},
   "outputs": [
    {
     "name": "stdout",
     "output_type": "stream",
     "text": [
      "Input:  Please stay.\n",
      "Translated:  Restez, s'il vous plaît.\n",
      "\n"
     ]
    }
   ],
   "source": [
    "input_sentence = \"Please stay.\"\n",
    "test_sentence_tokenized = np.zeros(\n",
    "    (1, max_encoder_seq_length, num_encoder_tokens), dtype='float32')\n",
    "for t, char in enumerate(input_sentence):\n",
    "    test_sentence_tokenized[0, t, input_token_index[char]] = 1.\n",
    "print(\"Input: \", input_sentence)\n",
    "print(\"Translated: \",decode_sequence(test_sentence_tokenized))"
   ]
  },
  {
   "cell_type": "code",
   "execution_count": 23,
   "id": "273eb694",
   "metadata": {},
   "outputs": [
    {
     "name": "stdout",
     "output_type": "stream",
     "text": [
      "Input:  Comment please\n",
      "Translated:  Viens seule !\n",
      "\n"
     ]
    }
   ],
   "source": [
    "input_sentence = \"Comment please\"\n",
    "test_sentence_tokenized = np.zeros(\n",
    "    (1, max_encoder_seq_length, num_encoder_tokens), dtype='float32')\n",
    "for t, char in enumerate(input_sentence):\n",
    "    test_sentence_tokenized[0, t, input_token_index[char]] = 1.\n",
    "print(\"Input: \", input_sentence)\n",
    "print(\"Translated: \",decode_sequence(test_sentence_tokenized))"
   ]
  },
  {
   "cell_type": "code",
   "execution_count": 26,
   "id": "f1d3b0a4",
   "metadata": {},
   "outputs": [
    {
     "name": "stdout",
     "output_type": "stream",
     "text": [
      "Input:  Thank you\n",
      "Translated:  Je vous mencer.\n",
      "\n"
     ]
    }
   ],
   "source": [
    "input_sentence = \"Thank you\"\n",
    "test_sentence_tokenized = np.zeros(\n",
    "    (1, max_encoder_seq_length, num_encoder_tokens), dtype='float32')\n",
    "for t, char in enumerate(input_sentence):\n",
    "    test_sentence_tokenized[0, t, input_token_index[char]] = 1.\n",
    "print(\"Input: \", input_sentence)\n",
    "print(\"Translated: \",decode_sequence(test_sentence_tokenized))"
   ]
  },
  {
   "cell_type": "code",
   "execution_count": null,
   "id": "5ba9b6e6",
   "metadata": {},
   "outputs": [],
   "source": []
  }
 ],
 "metadata": {
  "kernelspec": {
   "display_name": "Python 3 (ipykernel)",
   "language": "python",
   "name": "python3"
  },
  "language_info": {
   "codemirror_mode": {
    "name": "ipython",
    "version": 3
   },
   "file_extension": ".py",
   "mimetype": "text/x-python",
   "name": "python",
   "nbconvert_exporter": "python",
   "pygments_lexer": "ipython3",
   "version": "3.7.10"
  }
 },
 "nbformat": 4,
 "nbformat_minor": 5
}
